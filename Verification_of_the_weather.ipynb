{
  "cells": [
    {
      "cell_type": "code",
      "execution_count": 1,
      "metadata": {
        "id": "FyfC4S_o_Fc9"
      },
      "outputs": [
        {
          "name": "stdout",
          "output_type": "stream",
          "text": [
            "\n",
            "\n",
            "Weather: SUMMER \n",
            "Includes months: from June to August \n",
            " The temperature is between: 0º and 35ºC depends on location \n",
            " Characteristic: time of vacation, beach, parties, camping and outdoor sports with 19 hours of sunshine per day.\n",
            " So: you DON'T NEED coat, just if you are in the Artic regions of Canada.\n"
          ]
        }
      ],
      "source": [
        "class Start:\n",
        "    def __init__(self, items):\n",
        "      print(\"--------- Verification of the weather --------- \\n\",\n",
        "        \"To know the presents weather on Canada: \\n\",\n",
        "        \"1- Spring \\n\",\n",
        "        \"2- Summer \\n\",\n",
        "        \"3- Fall \\n 4- Winter \\n\")\n",
        "\n",
        "    weather = int(input(\"Write a respective weather number, based on real time in Canada:\"))\n",
        "\n",
        "    def spring():\n",
        "        print(\"\\n\\nWeather: SPRING \\nIncludes months: from March to May \\n\",\n",
        "                \"The temperature is between: 0º and 15ºC depends on location \\n\",\n",
        "                \"Characteristic: flowering of garden, being the most colorful time.\\n\",\n",
        "                \"So: you NEED coat.\")\n",
        "\n",
        "    def summer():\n",
        "        print(\"\\n\\nWeather: SUMMER \\nIncludes months: from June to August \\n\",\n",
        "                \"The temperature is between: 0º and 35ºC depends on location \\n\",\n",
        "                \"Characteristic: time of vacation, beach, parties, camping and outdoor sports with 19 hours of sunshine per day.\\n\",\n",
        "                \"So: you DON'T NEED coat, just if you are in the Artic regions of Canada.\")\n",
        "\n",
        "    def fall():\n",
        "        print(\"\\n\\nWeather: FALL \\nIncludes months: from September to November \\n\",\n",
        "                \"The temperature is between: -5º and 25ºC \\n\",\n",
        "                \"Characteristic: the leaves of the trees turn red, yellow or orange. \\n\",\n",
        "                \"So: you DON 'T NEED coat.\")\n",
        "\n",
        "    def winter():\n",
        "        print(\"\\n\\nWeather: WINTER \\nIncludes months: from December to February \\n\",\n",
        "                \"The temperature is between: -40º and 8°C \\n\",\n",
        "                \"Characteristic: to use hot clothes and drinks, in adiction to skiing. \\n\",\n",
        "                \"So: you NEED coat.\")\n",
        "\n",
        "    if weather == 1:\n",
        "        spring()\n",
        "    elif weather == 2:\n",
        "        summer()\n",
        "    elif weather == 3:\n",
        "        fall()\n",
        "    elif weather == 4:\n",
        "        winter()\n",
        "    else:\n",
        "        print(\"This value isn't valid. Please, write an int number.\")"
      ]
    }
  ],
  "metadata": {
    "colab": {
      "provenance": []
    },
    "kernelspec": {
      "display_name": "Python 3",
      "name": "python3"
    },
    "language_info": {
      "codemirror_mode": {
        "name": "ipython",
        "version": 3
      },
      "file_extension": ".py",
      "mimetype": "text/x-python",
      "name": "python",
      "nbconvert_exporter": "python",
      "pygments_lexer": "ipython3",
      "version": "3.12.0"
    }
  },
  "nbformat": 4,
  "nbformat_minor": 0
}
